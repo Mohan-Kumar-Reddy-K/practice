{
 "cells": [
  {
   "cell_type": "code",
   "execution_count": 1,
   "id": "d9fce8f4",
   "metadata": {},
   "outputs": [
    {
     "name": "stdout",
     "output_type": "stream",
     "text": [
      "Requirement already satisfied: faiss-cpu in c:\\users\\sandhata\\anaconda3\\envs\\vectordb\\lib\\site-packages (1.12.0)\n",
      "Requirement already satisfied: numpy<3.0,>=1.25.0 in c:\\users\\sandhata\\anaconda3\\envs\\vectordb\\lib\\site-packages (from faiss-cpu) (2.2.6)\n",
      "Requirement already satisfied: packaging in c:\\users\\sandhata\\anaconda3\\envs\\vectordb\\lib\\site-packages (from faiss-cpu) (25.0)\n",
      "Note: you may need to restart the kernel to use updated packages.\n"
     ]
    }
   ],
   "source": [
    "pip install faiss-cpu \n"
   ]
  },
  {
   "cell_type": "code",
   "execution_count": 2,
   "id": "c31cc910",
   "metadata": {},
   "outputs": [
    {
     "name": "stdout",
     "output_type": "stream",
     "text": [
      "Requirement already satisfied: numpy in c:\\users\\sandhata\\anaconda3\\envs\\vectordb\\lib\\site-packages (2.2.6)\n",
      "Collecting requests\n",
      "  Downloading requests-2.32.5-py3-none-any.whl.metadata (4.9 kB)\n",
      "Collecting charset_normalizer<4,>=2 (from requests)\n",
      "  Downloading charset_normalizer-3.4.4-cp310-cp310-win_amd64.whl.metadata (38 kB)\n",
      "Collecting idna<4,>=2.5 (from requests)\n",
      "  Downloading idna-3.11-py3-none-any.whl.metadata (8.4 kB)\n",
      "Collecting urllib3<3,>=1.21.1 (from requests)\n",
      "  Downloading urllib3-2.5.0-py3-none-any.whl.metadata (6.5 kB)\n",
      "Collecting certifi>=2017.4.17 (from requests)\n",
      "  Downloading certifi-2025.10.5-py3-none-any.whl.metadata (2.5 kB)\n",
      "Downloading requests-2.32.5-py3-none-any.whl (64 kB)\n",
      "Downloading charset_normalizer-3.4.4-cp310-cp310-win_amd64.whl (107 kB)\n",
      "Downloading idna-3.11-py3-none-any.whl (71 kB)\n",
      "Downloading urllib3-2.5.0-py3-none-any.whl (129 kB)\n",
      "Downloading certifi-2025.10.5-py3-none-any.whl (163 kB)\n",
      "Installing collected packages: urllib3, idna, charset_normalizer, certifi, requests\n",
      "\n",
      "   ---------------------------------------- 0/5 [urllib3]\n",
      "   ---------------------------------------- 0/5 [urllib3]\n",
      "   -------- ------------------------------- 1/5 [idna]\n",
      "   -------- ------------------------------- 1/5 [idna]\n",
      "   ---------------- ----------------------- 2/5 [charset_normalizer]\n",
      "   ------------------------ --------------- 3/5 [certifi]\n",
      "   -------------------------------- ------- 4/5 [requests]\n",
      "   ---------------------------------------- 5/5 [requests]\n",
      "\n",
      "Successfully installed certifi-2025.10.5 charset_normalizer-3.4.4 idna-3.11 requests-2.32.5 urllib3-2.5.0\n",
      "Note: you may need to restart the kernel to use updated packages.\n"
     ]
    }
   ],
   "source": [
    "pip install numpy requests"
   ]
  },
  {
   "cell_type": "code",
   "execution_count": 3,
   "id": "609d1d19",
   "metadata": {},
   "outputs": [],
   "source": [
    "data = \"\"\"\n",
    "Making an Impact\n",
    "Helping Millions of Students Succeed\n",
    "Sudhanshu's commitment to affordable education wasn't just a business strategy—it was his life's mission. Over the years, iNeuron has helped over 1.5 million students from 34+ countries, providing them with the skills they need to succeed in today's competitive job market. Many of these students, like Sudhanshu himself, came from disadvantaged backgrounds. They saw iNeuron as a lifeline—an opportunity to rise above their circumstances.\n",
    "\n",
    "In 2022, iNeuron was acquired by PhysicsWallah in a deal worth ₹250 crore. While this acquisition was a significant milestone, Sudhanshu remained focused on his mission. Even after the acquisition, iNeuron continued to offer some of the most affordable and accessible tech courses in the world.\n",
    "\n",
    "The Entrepreneur and Teacher: Sudhanshu's Dual Legacy\n",
    "Sudhanshu's journey isn't just one of entrepreneurial success; it's also a story of dedication to teaching. Throughout his career, he has remained a passionate educator, constantly looking for ways to empower others through knowledge. Whether teaching courses in Big Data, Data Science, or programming, Sudhanshu has always sought to make complex subjects accessible to learners at all levels.\n",
    "\n",
    "His commitment to affordable education has earned him the respect and admiration of countless students. Many credit Sudhanshu with changing their lives, helping them secure jobs, improve their skills, and break free from the limitations of their backgrounds.\"\"\""
   ]
  },
  {
   "cell_type": "code",
   "execution_count": 4,
   "id": "a09b8cc0",
   "metadata": {},
   "outputs": [],
   "source": [
    "clean_data=data.strip()"
   ]
  },
  {
   "cell_type": "code",
   "execution_count": 9,
   "id": "f81572c2",
   "metadata": {},
   "outputs": [],
   "source": [
    "max_char = 300\n",
    "overlap = 100\n",
    "chunks=[]\n",
    "i=0\n",
    "while i<len(clean_data):\n",
    "    piece = clean_data[i:i+max_char]\n",
    "    chunks.append(piece)\n",
    "    i=i+max_char-overlap\n"
   ]
  },
  {
   "cell_type": "code",
   "execution_count": 11,
   "id": "0cffb544",
   "metadata": {},
   "outputs": [
    {
     "data": {
      "text/plain": [
       "[\"Making an Impact\\nHelping Millions of Students Succeed\\nSudhanshu's commitment to affordable education wasn't just a business strategy—it was his life's mission. Over the years, iNeuron has helped over 1.5 million students from 34+ countries, providing them with the skills they need to succeed in toda\",\n",
       " \"1.5 million students from 34+ countries, providing them with the skills they need to succeed in today's competitive job market. Many of these students, like Sudhanshu himself, came from disadvantaged backgrounds. They saw iNeuron as a lifeline—an opportunity to rise above their circumstances.\\n\\nIn 20\",\n",
       " 'backgrounds. They saw iNeuron as a lifeline—an opportunity to rise above their circumstances.\\n\\nIn 2022, iNeuron was acquired by PhysicsWallah in a deal worth ₹250 crore. While this acquisition was a significant milestone, Sudhanshu remained focused on his mission. Even after the acquisition, iNeuron',\n",
       " \"ignificant milestone, Sudhanshu remained focused on his mission. Even after the acquisition, iNeuron continued to offer some of the most affordable and accessible tech courses in the world.\\n\\nThe Entrepreneur and Teacher: Sudhanshu's Dual Legacy\\nSudhanshu's journey isn't just one of entrepreneurial s\",\n",
       " \"preneur and Teacher: Sudhanshu's Dual Legacy\\nSudhanshu's journey isn't just one of entrepreneurial success; it's also a story of dedication to teaching. Throughout his career, he has remained a passionate educator, constantly looking for ways to empower others through knowledge. Whether teaching cou\",\n",
       " 'nate educator, constantly looking for ways to empower others through knowledge. Whether teaching courses in Big Data, Data Science, or programming, Sudhanshu has always sought to make complex subjects accessible to learners at all levels.\\n\\nHis commitment to affordable education has earned him the re',\n",
       " ' accessible to learners at all levels.\\n\\nHis commitment to affordable education has earned him the respect and admiration of countless students. Many credit Sudhanshu with changing their lives, helping them secure jobs, improve their skills, and break free from the limitations of their backgrounds.',\n",
       " ' them secure jobs, improve their skills, and break free from the limitations of their backgrounds.']"
      ]
     },
     "execution_count": 11,
     "metadata": {},
     "output_type": "execute_result"
    }
   ],
   "source": [
    "len(chunks)\n",
    "chunks"
   ]
  },
  {
   "cell_type": "code",
   "execution_count": 12,
   "id": "bc0888f0",
   "metadata": {},
   "outputs": [],
   "source": [
    "import requests\n",
    "import numpy as np\n",
    "\n",
    "def generate_embeddings(text):\n",
    "    url = \"https://api.euron.one/api/v1/euri/embeddings\"\n",
    "    headers = {\n",
    "        \"Content-Type\": \"application/json\",\n",
    "        \"Authorization\": \"Bearer *******\"\n",
    "    }\n",
    "    payload = {\n",
    "        \"input\": text,\n",
    "        \"model\": \"text-embedding-3-small\"\n",
    "    }\n",
    "\n",
    "    response = requests.post(url, headers=headers, json=payload)\n",
    "    data = response.json()\n",
    "    \n",
    "    embedding = np.array(data['data'][0]['embedding'])\n",
    "    \n",
    "    return embedding\n"
   ]
  },
  {
   "cell_type": "code",
   "execution_count": 14,
   "id": "7e9ad235",
   "metadata": {},
   "outputs": [
    {
     "name": "stdout",
     "output_type": "stream",
     "text": [
      "[ 0.01636502 -0.01330146  0.04360536 ... -0.00716132 -0.00025957\n",
      "  0.00777273]\n",
      "[-0.02781193  0.00343053  0.04798149 ... -0.01521909 -0.01743826\n",
      " -0.00741914]\n",
      "[-0.02119237 -0.03513358  0.01877532 ... -0.01876093  0.00953153\n",
      "  0.02064566]\n",
      "[ 0.00011691 -0.01620286  0.03854437 ... -0.03406553  0.00343817\n",
      "  0.02559526]\n",
      "[ 0.00538704 -0.01142304  0.04874471 ... -0.0355971   0.00306157\n",
      "  0.00572053]\n",
      "[-0.00912461 -0.01832682  0.04314627 ... -0.02185768 -0.00779892\n",
      " -0.01152378]\n",
      "[-0.00252494 -0.02891203  0.04281055 ... -0.00076008 -0.01947349\n",
      "  0.00868658]\n",
      "[ 0.0317256   0.01637366  0.04584625 ... -0.01135022 -0.06958151\n",
      "  0.01558773]\n"
     ]
    }
   ],
   "source": [
    "for i in chunks:\n",
    "    embedding = generate_embeddings(i)\n",
    "    print(embedding)"
   ]
  },
  {
   "cell_type": "code",
   "execution_count": 16,
   "id": "a5dd21ba",
   "metadata": {},
   "outputs": [],
   "source": [
    "emb_list=[]\n",
    "meta=[]\n",
    "for idx,chunk in enumerate(chunks):\n",
    "    vec = generate_embeddings(chunk)\n",
    "    emb_list.append(vec.astype(\"float32\"))\n",
    "\n",
    "    meta.append({\"id\":idx,\"test\":chunk})\n",
    "    "
   ]
  },
  {
   "cell_type": "code",
   "execution_count": 18,
   "id": "5be25079",
   "metadata": {},
   "outputs": [],
   "source": [
    "xb=np.vstack(emb_list)"
   ]
  },
  {
   "cell_type": "code",
   "execution_count": 19,
   "id": "4bb8e42d",
   "metadata": {},
   "outputs": [],
   "source": [
    "import faiss"
   ]
  },
  {
   "cell_type": "code",
   "execution_count": 20,
   "id": "fb56f228",
   "metadata": {},
   "outputs": [],
   "source": [
    "faiss.normalize_L2(xb)"
   ]
  },
  {
   "cell_type": "code",
   "execution_count": 24,
   "id": "5ab6cf84",
   "metadata": {},
   "outputs": [
    {
     "data": {
      "text/plain": [
       "1536"
      ]
     },
     "execution_count": 24,
     "metadata": {},
     "output_type": "execute_result"
    }
   ],
   "source": [
    "d=xb.shape[1]\n",
    "d"
   ]
  },
  {
   "cell_type": "code",
   "execution_count": 27,
   "id": "4d9fce31",
   "metadata": {},
   "outputs": [
    {
     "data": {
      "text/plain": [
       "<faiss.swigfaiss_avx2.IndexFlatIP; proxy of <Swig Object of type 'faiss::IndexFlatIP *' at 0x000001DF76F1D7D0> >"
      ]
     },
     "execution_count": 27,
     "metadata": {},
     "output_type": "execute_result"
    }
   ],
   "source": [
    "index=faiss.IndexFlatIP(d)\n",
    "index.add(xb)\n",
    "index"
   ]
  },
  {
   "cell_type": "code",
   "execution_count": 28,
   "id": "15e54621",
   "metadata": {},
   "outputs": [],
   "source": [
    "index_path=\"index_mk.faiss\"\n",
    "meta_path=\"meta_mk.jsonl\""
   ]
  },
  {
   "cell_type": "code",
   "execution_count": 29,
   "id": "783e8beb",
   "metadata": {},
   "outputs": [],
   "source": [
    "faiss.write_index(index,index_path)"
   ]
  },
  {
   "cell_type": "code",
   "execution_count": 30,
   "id": "5b256d58",
   "metadata": {},
   "outputs": [],
   "source": [
    "import json,os"
   ]
  },
  {
   "cell_type": "code",
   "execution_count": 32,
   "id": "00ae7ebd",
   "metadata": {},
   "outputs": [],
   "source": [
    "with open(meta_path,\"w\") as f:\n",
    "    for item in meta:\n",
    "        f.write(json.dumps(item)+\"\\n\")"
   ]
  },
  {
   "cell_type": "code",
   "execution_count": 35,
   "id": "dde62336",
   "metadata": {},
   "outputs": [
    {
     "data": {
      "text/plain": [
       "(array([[0.55319285, 0.5195153 , 0.5064372 , 0.49625516, 0.40612662]],\n",
       "       dtype=float32),\n",
       " array([[4, 6, 5, 3, 1]]))"
      ]
     },
     "execution_count": 35,
     "metadata": {},
     "output_type": "execute_result"
    }
   ],
   "source": [
    "query = \"who is Sudhanshu?\"\n",
    "q=generate_embeddings(query).astype(\"float32\").reshape(1,-1)\n",
    "faiss.normalize_L2(q)\n",
    "index.search(q,5)"
   ]
  },
  {
   "cell_type": "code",
   "execution_count": null,
   "id": "cff8e977",
   "metadata": {},
   "outputs": [],
   "source": []
  }
 ],
 "metadata": {
  "kernelspec": {
   "display_name": "vectordb",
   "language": "python",
   "name": "python3"
  },
  "language_info": {
   "codemirror_mode": {
    "name": "ipython",
    "version": 3
   },
   "file_extension": ".py",
   "mimetype": "text/x-python",
   "name": "python",
   "nbconvert_exporter": "python",
   "pygments_lexer": "ipython3",
   "version": "3.10.19"
  }
 },
 "nbformat": 4,
 "nbformat_minor": 5
}
